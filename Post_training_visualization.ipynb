{
 "cells": [
  {
   "cell_type": "code",
   "execution_count": 3,
   "metadata": {},
   "outputs": [
    {
     "name": "stderr",
     "output_type": "stream",
     "text": [
      "/Users/adamwalker/opt/anaconda3/envs/Deep_Learning/lib/python3.8/site-packages/tqdm/auto.py:22: TqdmWarning: IProgress not found. Please update jupyter and ipywidgets. See https://ipywidgets.readthedocs.io/en/stable/user_install.html\n",
      "  from .autonotebook import tqdm as notebook_tqdm\n"
     ]
    }
   ],
   "source": [
    "## Importing needed packages and functions for model\n",
    "\n",
    "import numpy as np # linear algebra\n",
    "import pandas as pd # data processing, CSV file I/O (e.g. pd.read_csv)\n",
    "import os\n",
    "import copy\n",
    "from PIL import Image\n",
    "import torch\n",
    "import torch.nn as nn\n",
    "import pytorch_lightning as pl\n",
    "import torch.nn.functional as F\n",
    "import torch.optim\n",
    "from torch.optim.lr_scheduler import ReduceLROnPlateau\n",
    "from torch.utils.data import Dataset, DataLoader\n",
    "import torchvision.transforms as transforms\n",
    "from sklearn.model_selection import train_test_split\n",
    "from torchsummary import summary\n",
    "import neptune\n",
    "\n",
    "pl.seed_everything(2023)\n"
   ]
  },
  {
   "cell_type": "code",
   "execution_count": 19,
   "metadata": {},
   "outputs": [],
   "source": [
    "## Importing packages for visualization\n",
    "\n",
    "from misc_functions import get_example_params, save_class_activation_images, preprocess_image\n",
    "from PIL import Image\n"
   ]
  },
  {
   "cell_type": "code",
   "execution_count": 4,
   "metadata": {},
   "outputs": [],
   "source": [
    "## Loading data\n",
    "labels_df = pd.read_csv('train_labels.csv')"
   ]
  },
  {
   "cell_type": "code",
   "execution_count": 6,
   "metadata": {},
   "outputs": [],
   "source": [
    "## Adding the same model architecture\n",
    "\n",
    "## Creating the model\n",
    "\n",
    "class HistopathClassifier(pl.LightningModule):\n",
    "    def __init__(self):\n",
    "        super(HistopathClassifier, self).__init__()\n",
    "        \n",
    "        self.conv1 = nn.Conv2d(3, 16, 3, padding=1)\n",
    "        self.conv2 = nn.Conv2d(16, 32, 3, padding=1)\n",
    "        self.conv3 = nn.Conv2d(32, 64, 3, padding=1)\n",
    "        self.pool = nn.MaxPool2d(2, 2)\n",
    "        self.fc1 = nn.Linear(64 * 12 * 12, 512)\n",
    "        self.fc2 = nn.Linear(512, 1)\n",
    "        self.dropout = nn.Dropout(0.25)\n",
    "        self.sigmoid = nn.Sigmoid()\n",
    "        self.loss = nn.BCELoss()\n",
    "\n",
    "    def forward(self, x):\n",
    "        x = self.pool(F.relu(self.conv1(x)))\n",
    "        x = self.pool(F.relu(self.conv2(x)))\n",
    "        x = self.pool(F.relu(self.conv3(x)))\n",
    "        x = x.view(-1, 64 * 12 * 12)\n",
    "        x = self.dropout(x)\n",
    "        x = F.relu(self.fc1(x))\n",
    "        x = self.dropout(x)\n",
    "        x = self.fc2(x)\n",
    "        return self.sigmoid(x)\n",
    "    \n",
    "    def train_step(self, inputs, labels, criterion, optimizer):\n",
    "        optimizer.zero_grad()\n",
    "        outputs = self(inputs).squeeze()\n",
    "        \n",
    "        if outputs.squeeze().dim() == 0: #done for rare instances where a batch could have only 1 sample\n",
    "            outputs = outputs.unsqueeze(0)\n",
    "    \n",
    "        #print(outputs.shape)\n",
    "        #print(outputs.squeeze().shape)\n",
    "        #print(labels.float().shape)\n",
    "        loss = criterion(outputs, labels.float())\n",
    "        loss.backward()\n",
    "        optimizer.step()\n",
    "        return loss.item()\n",
    "\n",
    "    def validate_step(self, inputs, labels, criterion):\n",
    "        with torch.no_grad():\n",
    "            outputs = self(inputs).squeeze()\n",
    "            if outputs.squeeze().dim() == 0: #done for rare instances where a batch could have only 1 sample\n",
    "                outputs = outputs.unsqueeze(0)\n",
    "            \n",
    "            loss = criterion(outputs, labels.float())\n",
    "        return loss.item()\n",
    "\n"
   ]
  },
  {
   "cell_type": "code",
   "execution_count": 7,
   "metadata": {},
   "outputs": [
    {
     "name": "stdout",
     "output_type": "stream",
     "text": [
      "----------------------------------------------------------------\n",
      "        Layer (type)               Output Shape         Param #\n",
      "================================================================\n",
      "            Conv2d-1           [-1, 16, 96, 96]             448\n",
      "         MaxPool2d-2           [-1, 16, 48, 48]               0\n",
      "            Conv2d-3           [-1, 32, 48, 48]           4,640\n",
      "         MaxPool2d-4           [-1, 32, 24, 24]               0\n",
      "            Conv2d-5           [-1, 64, 24, 24]          18,496\n",
      "         MaxPool2d-6           [-1, 64, 12, 12]               0\n",
      "           Dropout-7                 [-1, 9216]               0\n",
      "            Linear-8                  [-1, 512]       4,719,104\n",
      "           Dropout-9                  [-1, 512]               0\n",
      "           Linear-10                    [-1, 1]             513\n",
      "          Sigmoid-11                    [-1, 1]               0\n",
      "================================================================\n",
      "Total params: 4,743,201\n",
      "Trainable params: 4,743,201\n",
      "Non-trainable params: 0\n",
      "----------------------------------------------------------------\n",
      "Input size (MB): 0.11\n",
      "Forward/backward pass size (MB): 2.54\n",
      "Params size (MB): 18.09\n",
      "Estimated Total Size (MB): 20.74\n",
      "----------------------------------------------------------------\n"
     ]
    }
   ],
   "source": [
    "## Double checking it looks the same\n",
    "\n",
    "## Creating the model and getting a summary\n",
    "\n",
    "device = torch.device(\"cuda\" if torch.cuda.is_available() else \"cpu\")\n",
    "\n",
    "\n",
    "num_epochs = 20\n",
    "model = HistopathClassifier()\n",
    "model.to(device)\n",
    "\n",
    "criterion = nn.BCELoss()\n",
    "optimizer = torch.optim.Adam(model.parameters(), lr=1e-3)\n",
    "scheduler = ReduceLROnPlateau(optimizer, mode='min', factor=0.1, patience=10, verbose=True)\n",
    "\n",
    "\n",
    "summary(model, input_size=(3, 96, 96),device=device.type)"
   ]
  },
  {
   "cell_type": "code",
   "execution_count": 11,
   "metadata": {},
   "outputs": [
    {
     "data": {
      "text/plain": [
       "<All keys matched successfully>"
      ]
     },
     "execution_count": 11,
     "metadata": {},
     "output_type": "execute_result"
    }
   ],
   "source": [
    "## Loading from weights trained on the main script\n",
    "\n",
    "model.load_state_dict(torch.load(\"my_model.pt\",map_location=torch.device('cpu')))\n"
   ]
  },
  {
   "cell_type": "code",
   "execution_count": 26,
   "metadata": {},
   "outputs": [
    {
     "name": "stderr",
     "output_type": "stream",
     "text": [
      "Downloading: \"https://download.pytorch.org/models/alexnet-owt-4df8aa71.pth\" to /Users/adamwalker/.cache/torch/hub/checkpoints/alexnet-owt-4df8aa71.pth\n",
      "100%|██████████| 233M/233M [00:19<00:00, 12.5MB/s] \n"
     ]
    }
   ],
   "source": [
    "from torchvision import models\n",
    "\n",
    "pretrained_model = models.alexnet(pretrained=True)"
   ]
  },
  {
   "cell_type": "code",
   "execution_count": 37,
   "metadata": {},
   "outputs": [
    {
     "name": "stdout",
     "output_type": "stream",
     "text": [
      "Sequential(\n",
      "  (0): Conv2d(3, 16, kernel_size=(3, 3), stride=(1, 1), padding=(1, 1))\n",
      "  (1): ReLU()\n",
      "  (2): MaxPool2d(kernel_size=2, stride=2, padding=0, dilation=1, ceil_mode=False)\n",
      "  (3): Conv2d(16, 32, kernel_size=(3, 3), stride=(1, 1), padding=(1, 1))\n",
      "  (4): ReLU()\n",
      "  (5): MaxPool2d(kernel_size=2, stride=2, padding=0, dilation=1, ceil_mode=False)\n",
      "  (6): Conv2d(32, 64, kernel_size=(3, 3), stride=(1, 1), padding=(1, 1))\n",
      "  (7): ReLU()\n",
      "  (8): MaxPool2d(kernel_size=2, stride=2, padding=0, dilation=1, ceil_mode=False)\n",
      ")\n"
     ]
    }
   ],
   "source": [
    "class MyModel(nn.Module):\n",
    "    def __init__(self):\n",
    "        super(MyModel, self).__init__()\n",
    "        self.conv_layers = nn.Sequential(\n",
    "            nn.Conv2d(3, 16, kernel_size=(3, 3), stride=(1, 1), padding=(1, 1)),\n",
    "            nn.ReLU(),\n",
    "            nn.MaxPool2d(kernel_size=2, stride=2, padding=0, dilation=1, ceil_mode=False),\n",
    "\n",
    "            nn.Conv2d(16, 32, kernel_size=(3, 3), stride=(1, 1), padding=(1, 1)),\n",
    "            nn.ReLU(),\n",
    "            nn.MaxPool2d(kernel_size=2, stride=2, padding=0, dilation=1, ceil_mode=False),\n",
    "\n",
    "            nn.Conv2d(32, 64, kernel_size=(3, 3), stride=(1, 1), padding=(1, 1)),\n",
    "            nn.ReLU(),\n",
    "            nn.MaxPool2d(kernel_size=2, stride=2, padding=0, dilation=1, ceil_mode=False),\n",
    "        )\n",
    "        self.fc_layers = nn.Sequential(\n",
    "            nn.Dropout(p=0.25, inplace=False),\n",
    "            nn.Linear(in_features=64 * 12 * 12, out_features=512, bias=True),\n",
    "            nn.ReLU(),\n",
    "\n",
    "            nn.Dropout(p=0.25, inplace=False),\n",
    "            nn.Linear(in_features=512, out_features=1, bias=True),\n",
    "            nn.Sigmoid(),\n",
    "        )\n",
    "\n",
    "    def forward(self, x):\n",
    "        x = self.conv_layers(x)\n",
    "        x = x.view(-1, 64 * 12 * 12)\n",
    "        x = self.fc_layers(x)\n",
    "        return x\n",
    "\n",
    "fake_model = MyModel()\n",
    "print(fake_model._modules['conv_layers'])\n",
    "#print(fake_model.fc_layers)"
   ]
  },
  {
   "cell_type": "code",
   "execution_count": 30,
   "metadata": {},
   "outputs": [
    {
     "data": {
      "text/plain": [
       "OrderedDict([('conv1',\n",
       "              Conv2d(3, 16, kernel_size=(3, 3), stride=(1, 1), padding=(1, 1))),\n",
       "             ('conv2',\n",
       "              Conv2d(16, 32, kernel_size=(3, 3), stride=(1, 1), padding=(1, 1))),\n",
       "             ('conv3',\n",
       "              Conv2d(32, 64, kernel_size=(3, 3), stride=(1, 1), padding=(1, 1))),\n",
       "             ('pool',\n",
       "              MaxPool2d(kernel_size=2, stride=2, padding=0, dilation=1, ceil_mode=False)),\n",
       "             ('fc1', Linear(in_features=9216, out_features=512, bias=True)),\n",
       "             ('fc2', Linear(in_features=512, out_features=1, bias=True)),\n",
       "             ('dropout', Dropout(p=0.25, inplace=False)),\n",
       "             ('sigmoid', Sigmoid()),\n",
       "             ('loss', BCELoss())])"
      ]
     },
     "execution_count": 30,
     "metadata": {},
     "output_type": "execute_result"
    }
   ],
   "source": [
    "\n",
    "model._modules\n"
   ]
  },
  {
   "cell_type": "code",
   "execution_count": 31,
   "metadata": {},
   "outputs": [
    {
     "data": {
      "text/plain": [
       "Sequential(\n",
       "  (0): Dropout(p=0.5, inplace=False)\n",
       "  (1): Linear(in_features=9216, out_features=4096, bias=True)\n",
       "  (2): ReLU(inplace=True)\n",
       "  (3): Dropout(p=0.5, inplace=False)\n",
       "  (4): Linear(in_features=4096, out_features=4096, bias=True)\n",
       "  (5): ReLU(inplace=True)\n",
       "  (6): Linear(in_features=4096, out_features=1000, bias=True)\n",
       ")"
      ]
     },
     "execution_count": 31,
     "metadata": {},
     "output_type": "execute_result"
    }
   ],
   "source": [
    "pretrained_model._modules['features']\n",
    "pretrained_model._modules['classifier']"
   ]
  },
  {
   "cell_type": "code",
   "execution_count": 39,
   "metadata": {},
   "outputs": [
    {
     "ename": "KeyError",
     "evalue": "'features'",
     "output_type": "error",
     "traceback": [
      "\u001b[0;31m---------------------------------------------------------------------------\u001b[0m",
      "\u001b[0;31mKeyError\u001b[0m                                  Traceback (most recent call last)",
      "Cell \u001b[0;32mIn[39], line 14\u001b[0m\n\u001b[1;32m     10\u001b[0m prep_img \u001b[39m=\u001b[39m preprocess_image(original_image)\n\u001b[1;32m     12\u001b[0m layerwise_relevance \u001b[39m=\u001b[39m LRP(fake_model)\n\u001b[0;32m---> 14\u001b[0m LRP_per_layer \u001b[39m=\u001b[39m layerwise_relevance\u001b[39m.\u001b[39;49mgenerate(prep_img, \u001b[39m0\u001b[39;49m)\n",
      "File \u001b[0;32m~/Github_Desktop/NYU_Deep_Learning/Final_project/DL_Final_Project/LRP.py:72\u001b[0m, in \u001b[0;36mLRP.generate\u001b[0;34m(self, input_image, target_class)\u001b[0m\n\u001b[1;32m     71\u001b[0m \u001b[39mdef\u001b[39;00m \u001b[39mgenerate\u001b[39m(\u001b[39mself\u001b[39m, input_image, target_class):\n\u001b[0;32m---> 72\u001b[0m     layers_in_model \u001b[39m=\u001b[39m \u001b[39mlist\u001b[39m(\u001b[39mself\u001b[39;49m\u001b[39m.\u001b[39;49mmodel\u001b[39m.\u001b[39;49m_modules[\u001b[39m'\u001b[39;49m\u001b[39mfeatures\u001b[39;49m\u001b[39m'\u001b[39;49m]) \u001b[39m+\u001b[39m \u001b[39mlist\u001b[39m(\u001b[39mself\u001b[39m\u001b[39m.\u001b[39mmodel\u001b[39m.\u001b[39m_modules[\u001b[39m'\u001b[39m\u001b[39mclassifier\u001b[39m\u001b[39m'\u001b[39m])\n\u001b[1;32m     73\u001b[0m     number_of_layers \u001b[39m=\u001b[39m \u001b[39mlen\u001b[39m(layers_in_model)\n\u001b[1;32m     74\u001b[0m     \u001b[39m# Needed to know where flattening happens\u001b[39;00m\n",
      "\u001b[0;31mKeyError\u001b[0m: 'features'"
     ]
    }
   ],
   "source": [
    "## Attempting LRP on a single iamge \n",
    "from LRP import LRP\n",
    "\n",
    "input_images_list = os.listdir(\"input_images\")\n",
    "\n",
    "img = input_images_list[0]\n",
    "path_to_image = os.path.join(\"input_images\", img)\n",
    "\n",
    "original_image = Image.open(path_to_image).convert('RGB')\n",
    "prep_img = preprocess_image(original_image)\n",
    "\n",
    "layerwise_relevance = LRP(fake_model)\n",
    "\n",
    "LRP_per_layer = layerwise_relevance.generate(prep_img, 0)\n"
   ]
  }
 ],
 "metadata": {
  "kernelspec": {
   "display_name": "Deep_Learning",
   "language": "python",
   "name": "python3"
  },
  "language_info": {
   "codemirror_mode": {
    "name": "ipython",
    "version": 3
   },
   "file_extension": ".py",
   "mimetype": "text/x-python",
   "name": "python",
   "nbconvert_exporter": "python",
   "pygments_lexer": "ipython3",
   "version": "3.8.15"
  },
  "orig_nbformat": 4
 },
 "nbformat": 4,
 "nbformat_minor": 2
}
